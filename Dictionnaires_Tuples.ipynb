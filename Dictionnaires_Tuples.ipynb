{
 "cells": [
  {
   "cell_type": "markdown",
   "id": "914e84e2",
   "metadata": {},
   "source": [
    "<center>\n",
    "<H1><span style=\"text-align: center; font-weight: bold; color: #746bb3ff;\">Les Dictionnaires & Tuples</span></H1>\n",
    "</center>"
   ]
  },
  {
   "cell_type": "markdown",
   "id": "4904b5d8",
   "metadata": {},
   "source": [
    "<H3><span style=\"font-weight: bold ; color: #19b7f1ff\">Les ressources: </span></H3> \n",
    "\n",
    "**Documentation Officielle** : \n",
    "* [Dictionnaires](https://docs.python.org/fr/3/tutorial/datastructures.html#dictionaries) \n",
    "* [Tuples](https://docs.python.org/fr/3/tutorial/datastructures.html#tuples-and-sequences)"
   ]
  },
  {
   "cell_type": "markdown",
   "id": "6ba65839",
   "metadata": {},
   "source": [
    "<H3><span style=\"font-weight: bold; color: #1a8bcdff;\">Challenge 1 : Manipulation des dictionnaires Python</span></H3>\n",
    "\n",
    "1. <span style=\"font-weight: bold; color: #e56922ff;\">Objectif</span> : </br>\n",
    "Apprendre à manipuler des dictionnaires en Python à travers plusieurs opérations clés\n",
    "\n",
    "2. <span style=\"font-weight: bold; color: #e56922ff;\">Travail à faire</span>:</br>\n",
    "Considérons le dictionnaire suivant :\n",
    "\n",
    "<code>\n",
    "First_dict = { \"Appareil\": \"Laptop\", \"Marque\": \"IBM\", \"Carte mère\": \"MSI Z490\", \"Carte Graphique\":\"GeForce RTX 3070\", \"RAM\": \"16G\", \"Processeur\": \"Intel core i7-G11\", \"SSD\": \"1 To\" }    </code>\n",
    "\n",
    "- *Parti 1:* Écris un programme Python qui effectue les opérations suivantes :\n",
    "\n",
    "1. Corriger la valeur associée à la clé \"RAM\" pour qu’elle devienne \"32G\".\n",
    "\n",
    "2. Afficher successivement :\n",
    "\n",
    "3. La liste des clés du dictionnaire\n",
    "\n",
    "4. La liste des valeurs\n",
    "\n",
    "5. La liste des paires clé-valeur\n",
    "\n",
    "6. Inverser les paires \"Processeur\" : \"Intel core i7-G11\" et \"Carte Graphique\" : \"GeForce RTX 3070\"\n",
    "\n",
    "7. Ajouter la paire clé-valeur suivante : \"Système d’exploitation\": \"Windows 10\"\n",
    "\n",
    "- *Parti 2:* On considère le dictionnaire suivant dont les clés sont les noms des élèves et les valeurs des clés sont les moyennes générales obtenues en passant l’examen final.\n",
    "\n",
    "<code>notes_eleves = { \"Amine\": 15.5, \"Yassine\": 19.0, \"Reda\": 14.2, \"Malak\": 8.7, \"Manal\": 20.0, \"Ahmed\": 7.5,\"Saad\": 11.3, \"Hannae\": 9.8 }</code>\n",
    "\n",
    "Écrire un programme Python qui partitionne ce dictionnaire en deux sous dictionnaires :\n",
    "\n",
    "* etudiantAdmis dont les clés sont les étudiants admis et les valeurs des clés sont les moyennes obtenues (moyenne supérieures ou égales à 10 ).\n",
    "\n",
    "* etudiantNonAdmis dont les clés sont les étudiants non admis et les valeurs des clés sont les moyennes obtenues (moyenne inférieur ou égale à 10). "
   ]
  },
  {
   "cell_type": "code",
   "execution_count": null,
   "id": "0fc954a1",
   "metadata": {},
   "outputs": [
    {
     "name": "stdout",
     "output_type": "stream",
     "text": [
      "{'Appareil': 'Laptop', 'Marque': 'IBM', 'Carte mère': 'MSI Z490', 'Carte Graphique': 'Intel core i7-G11', 'RAM': '16G', 'Processeur': 'GeForce RTX 3070', 'SSD': '1 To'}\n"
     ]
    }
   ],
   "source": [
    "#  Écrivez du code Python ici\n",
    "First_dict = { \"Appareil\": \"Laptop\", \"Marque\": \"IBM\", \"Carte mère\": \"MSI Z490\",\n",
    "               \"Carte Graphique\":\"GeForce RTX 3070\", \"RAM\": \"16G\",\n",
    "                 \"Processeur\": \"Intel core i7-G11\", \"SSD\": \"1 To\" } \n",
    "\n",
    "First_dict[\"RAM\"] = \"32\"\n",
    "print(First_dict.keys())\n",
    "print(First_dict.values())\n",
    "print(First_dict.items())\n",
    "First_dict[\"Système d’exploitation\"] = \"Windows 10\"\n",
    "First_dict[\"Processeur\"], First_dict[\"Carte Graphique\"] = First_dict[\"Carte Graphique\"], First_dict[\"Processeur\"]\n",
    "print(First_dict)\n"
   ]
  },
  {
   "cell_type": "code",
   "execution_count": 21,
   "id": "a505145c",
   "metadata": {},
   "outputs": [
    {
     "name": "stdout",
     "output_type": "stream",
     "text": [
      "{'Amine': 15.5, 'Yassine': 19.0, 'Reda': 14.2, 'Manal': 20.0, 'Saad': 11.3}\n",
      "{'Malak': 8.7, 'Ahmed': 7.5, 'Hannae': 9.8}\n"
     ]
    }
   ],
   "source": [
    "notes_eleves = { \"Amine\": 15.5, \"Yassine\": 19.0, \"Reda\": 14.2, \n",
    "                \"Malak\": 8.7, \"Manal\": 20.0, \"Ahmed\": 7.5,\n",
    "                \"Saad\": 11.3, \"Hannae\": 9.8 }\n",
    "\n",
    "etudiant_Admis = {}\n",
    "etudiant_Non_Admis = {}\n",
    "\n",
    "for x,y in notes_eleves.items():\n",
    "    if y > 10:\n",
    "        etudiant_Admis[x] = y\n",
    "    else:\n",
    "        etudiant_Non_Admis[x] = y\n",
    "\n",
    "\n",
    "print(etudiant_Admis)\n",
    "print(etudiant_Non_Admis)\n",
    "\n"
   ]
  },
  {
   "cell_type": "markdown",
   "id": "7ab8effa",
   "metadata": {},
   "source": [
    "<H3><span style=\"font-weight: bold; color: #1a8bcdff;\">Challenge 2 : Mise à Jour de Dictionnaires</span></H3>\n",
    "\n",
    "1. <span style=\"font-weight: bold; color: #e56922ff;\">Objectif</span> : </br>\n",
    "Fusionner plusieurs dictionnaires en un seul.\n",
    "\n",
    "2. <span style=\"font-weight: bold; color: #e56922ff;\">Travail à faire</span>:</br>\n",
    "* Utilisez update() pour fusionner trois dictionnaires différents.\n",
    "* Affichez le dictionnaire final avec toutes les clés et valeurs combinées.\n"
   ]
  },
  {
   "cell_type": "code",
   "execution_count": null,
   "id": "85cd8892",
   "metadata": {},
   "outputs": [
    {
     "name": "stdout",
     "output_type": "stream",
     "text": [
      "{'Appareil': 'Laptop', 'Marque': 'IBM', 'Carte mère': 'MSI Z490', 'Carte Graphique': 'GeForce RTX 3070', 'RAM': '16G', 'Processeur': 'Intel core i7-G11', 'SSD': '1 To', 'Amine': 15.5, 'Yassine': 19.0, 'Reda': 14.2, 'Malak': 8.7, 'Manal': 20.0, 'Ahmed': 7.5, 'Saad': 11.3, 'Hannae': 9.8}\n"
     ]
    }
   ],
   "source": [
    "#  Écrivez du code Python ici\n",
    "First_dict = { \"Appareil\": \"Laptop\", \"Marque\": \"IBM\", \"Carte mère\": \"MSI Z490\",\n",
    "               \"Carte Graphique\":\"GeForce RTX 3070\", \"RAM\": \"16G\",\n",
    "                \"Processeur\": \"Intel core i7-G11\", \"SSD\": \"1 To\" } \n",
    "notes_eleves = { \"Amine\": 15.5, \"Yassine\": 19.0, \"Reda\": 14.2, \"Malak\": 8.7,\n",
    "                 \"Manal\": 20.0, \"Ahmed\": 7.5,\"Saad\": 11.3, \"Hannae\": 9.8 }\n",
    "notes_eleves = { \"VVVVVVVVVV\": 15.5, \"Yassine\": 19.0, \"Reda\": 14.2, \"Malak\": 8.7,\n",
    "                 \"Manal\": 20.0, \"Ahmed\": 7.5,\"Saad\": 11.3, \"Hannae\": 9.8 }\n",
    "\n",
    "for x,y in notes_eleves.items():\n",
    "    First_dict.update({x: y})\n",
    "for x,y in notes_eleves.items():\n",
    "    First_dict.update({x: y})\n",
    "\n",
    "print(First_dict)\n",
    "\n"
   ]
  },
  {
   "cell_type": "markdown",
   "id": "c5dd1c26",
   "metadata": {},
   "source": [
    "<H3><span style=\"font-weight: bold; color: #1a8bcdff;\">Challenge 3 : Conversion de Deux Listes en Dictionnaire</span></H3>\n",
    "\n",
    "1. <span style=\"font-weight: bold; color: #e56922ff;\">Objectif</span> : </br>\n",
    "Créer un dictionnaire à partir de deux listes (une pour les clés, une pour les valeurs).\n",
    "\n",
    "2. <span style=\"font-weight: bold; color: #e56922ff;\">Travail à faire</span>:</br>\n",
    "* Utilisez zip() pour combiner les deux listes.\n",
    "* Convertissez le résultat en dictionnaire.\n",
    "* Affichez le dictionnaire créé.\n",
    "\n"
   ]
  },
  {
   "cell_type": "code",
   "execution_count": null,
   "id": "2663dae7",
   "metadata": {},
   "outputs": [],
   "source": [
    "#  Écrivez du code Python ici\n",
    "keys = ['name', 'age', 'city']\n",
    "values = ['Alice', 30, 'New York']\n",
    "\n",
    "my_dictionary = dict(zip(keys, values))\n",
    "\n",
    "print(my_dictionary)\n",
    "\n"
   ]
  },
  {
   "cell_type": "markdown",
   "id": "b64cf938",
   "metadata": {},
   "source": [
    "\n",
    "<H3><span style=\"font-weight: bold; color: #1a8bcdff;\">Challenge 4 : Tri d'un Dictionnaire</span></H3>\n",
    "\n",
    "1. <span style=\"font-weight: bold; color: #e56922ff;\">Objectif</span> : </br>\n",
    "Trier un dictionnaire selon ses valeurs.\n",
    "\n",
    "2. <span style=\"font-weight: bold; color: #e56922ff;\">Travail à faire</span>:</br>\n",
    "* Utilisez items() pour obtenir les paires clé-valeur.\n",
    "* Triez ces paires par valeur.\n",
    "* Créez un nouveau dictionnaire à partir des paires triées.\n",
    "\n"
   ]
  },
  {
   "cell_type": "code",
   "execution_count": null,
   "id": "09480797",
   "metadata": {},
   "outputs": [],
   "source": [
    "#  Écrivez du code Python ici\n",
    "notes_eleves = { \"Amine\": 15.5, \"Yassine\": 19.0, \"Reda\": 14.2, \"Malak\": 8.7,\n",
    "                 \"Manal\": 20.0, \"Ahmed\": 7.5,\"Saad\": 11.3, \"Hannae\": 9.8 }\n",
    "\n",
    "\n",
    "items = notes_eleves.items()\n",
    "sorted_items = sorted(items, key=lambda x: x[1])      \n",
    "sorted_dict = dict(sorted_items)\n",
    "\n",
    "print(sorted_dict)\n"
   ]
  },
  {
   "cell_type": "markdown",
   "id": "2c429ffc",
   "metadata": {},
   "source": [
    "\n",
    "<H3><span style=\"font-weight: bold; color: #1a8bcdff;\">Challenge 5 : Manipulation de tuples </span></H3>\n",
    "\n",
    "1. <span style=\"font-weight: bold; color: #e56922ff;\">Objectif</span> : </br>\n",
    "Comprendre la structure des tuples, leur immutabilité, et leur utilisation pour stocker des données groupées et ordonnées.\n",
    "\n",
    "2. <span style=\"font-weight: bold; color: #e56922ff;\">Travail à faire</span>:</br>\n",
    "* Crée un tuple nommé etudiant_info contenant les informations suivantes dans cet ordre : Prénom : \"Yasmine\", Âge : 22, Filière : \"Informatique\", Moyenne générale : 17.4\n",
    "* Affiche les informations stockées dans le tuple, une par ligne, avec un texte explicite. (ex: “Prénom : Yasmine”)\n",
    "* Tente de modifier la filière dans le tuple. Que se passe-t-il ? Explique pourquoi.\n",
    "* Utilise l'opérateur de slicing pour afficher uniquement le prénom et l'âge.\n",
    "* Crée un nouveau tuple en combinant etudiant_info avec un second tuple contenant la mention \"Très Bien\" et l’année d’obtention du diplôme (2024), puis affiche le tuple final."
   ]
  },
  {
   "cell_type": "code",
   "execution_count": null,
   "id": "1e59354d",
   "metadata": {},
   "outputs": [],
   "source": [
    "#  Écrivez du code Python ici\n",
    "etudiant_info = (\"Yasmine\", 22, \"Informatique\", 17.4)\n",
    "\n",
    "print(f\"Prénom : {etudiant_info[0]}\")\n",
    "print(f\"Âge : {etudiant_info[1]}\")\n",
    "print(f\"Filière : {etudiant_info[2]}\")\n",
    "print(f\"Moyenne générale : {etudiant_info[3]}\")\n",
    "\n",
    "# modify the 'Filière'\n",
    "\n",
    "etudiant_info[2] = \"Mathématiques\" # i get an error ('tuple' object does not support item assignment)\n",
    "print(etudiant_info)               # tuples are immutable u can't add or remove or upate any item after its first creation\n",
    "\n",
    "\n",
    "print(\"name and age are :\", etudiant_info[:2])\n",
    "\n",
    "extra_info = (\"Branch\", \"it\")\n",
    "final_tuple = etudiant_info + extra_info\n",
    "print(\"\\nFinal tuple is :\", final_tuple)\n",
    "\n"
   ]
  },
  {
   "cell_type": "markdown",
   "id": "bdb88a19",
   "metadata": {},
   "source": []
  }
 ],
 "metadata": {
  "kernelspec": {
   "display_name": "Python 3",
   "language": "python",
   "name": "python3"
  },
  "language_info": {
   "codemirror_mode": {
    "name": "ipython",
    "version": 3
   },
   "file_extension": ".py",
   "mimetype": "text/x-python",
   "name": "python",
   "nbconvert_exporter": "python",
   "pygments_lexer": "ipython3",
   "version": "3.13.7"
  }
 },
 "nbformat": 4,
 "nbformat_minor": 5
}
