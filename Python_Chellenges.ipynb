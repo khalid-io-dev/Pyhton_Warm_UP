{
 "cells": [
  {
   "cell_type": "markdown",
   "id": "title-resources",
   "metadata": {},
   "source": [
    "<div style=\"text-align:center;\">\n",
    "  <h1 style=\"color:#746bb3;\">Les Bases De Python</h1>\n",
    "</div>\n",
    "\n",
    "*Dans ces labs, vous découvrirez et maîtriserez les fondamentaux du langage Python, notamment la syntaxe de base, les types de données, les structures de contrôle (conditions, boucles), les fonctions et la gestion des modules. Vous apprendrez également à manipuler des collections (listes, dictionnaires, ensembles), à lire et écrire des fichiers, et à utiliser les environnements virtuels. Ces compétences vous permettront de développer vos premiers scripts et d’acquérir une base solide pour aborder des projets plus avancés en intelligence artificielle et en science des données.*\n",
    "\n",
    "### Les ressources:\n",
    "\n",
    "**Conditions** :  \n",
    "- [Python if/else Statements (Real Python)](https://realpython.com/python-conditional-statements/)  \n",
    "- [Documentation officielle – if](https://docs.python.org/fr/3/tutorial/controlflow.html#if-statements-and-expressions)\n",
    "\n",
    "**Boucles** :  \n",
    "- [Python Loops (Real Python)](https://realpython.com/python-for-loop/)  \n",
    "- [Documentation officielle – for](https://docs.python.org/fr/3/tutorial/controlflow.html#for-statements)\n",
    "\n",
    "**Try/Except** :  \n",
    "- [Python Exceptions (Real Python)](https://realpython.com/python-exceptions/)  \n",
    "- [Documentation officielle – exceptions](https://docs.python.org/fr/3/tutorial/errors.html#handling-exceptions)"
   ]
  },
  {
   "cell_type": "markdown",
   "id": "challenge-1",
   "metadata": {},
   "source": [
    "### Challenge 1 : Présentation personnalisée\n",
    "**Objectif** : Apprendre à utiliser la fonction `input()` pour interagir avec l’utilisateur et afficher une sortie personnalisée avec `print()`.\n",
    "\n",
    "**Travail à faire**: Écris un programme qui demande à l’utilisateur son prénom et son âge, puis affiche un message personnalisé indiquant son prénom et son âge."
   ]
  },
  {
   "cell_type": "code",
   "execution_count": 23,
   "id": "code-ch1",
   "metadata": {},
   "outputs": [
    {
     "name": "stdout",
     "output_type": "stream",
     "text": [
      "Your Name is  And Your Age is \n"
     ]
    }
   ],
   "source": [
    "# Écrivez votre code pour Challenge 1 ici\n",
    "# CHALLENGE 1\n",
    "\n",
    "name = input(\"Enter Your Name: \")\n",
    "age = input(\"Enter Your Age: \")\n",
    "\n",
    "print(f'Your Name is {name} And Your Age is {age}')\n",
    " "
   ]
  },
  {
   "cell_type": "markdown",
   "id": "challenge-2",
   "metadata": {},
   "source": [
    "### Challenge 2 : Calcul de salaire avec heures supplémentaires\n",
    "**Objectif** : Travailler la saisie de données utilisateur, les conversions de types, les conditions (`if`), et les opérations arithmétiques pour simuler un cas réel de calcul de paie.\n",
    "\n",
    "**Travail à faire**: \n",
    "- Récupérer le nom, le salaire horaire et le nombre d’heures.  \n",
    "- Si > 40h → heures supplémentaires payées à 1.5x.  \n",
    "- Calculer et afficher le salaire total."
   ]
  },
  {
   "cell_type": "code",
   "execution_count": null,
   "id": "code-ch2",
   "metadata": {},
   "outputs": [],
   "source": [
    "# Écrivez votre code pour Challenge 2 ici\n",
    "# CHALLENGE 2\n",
    "\n",
    "name = input(\"Enter Your Name: \")\n",
    "hourly_pay = float(input(\"Enter Your hourly salary: \"))\n",
    "total_hours = float(input(\"Enter Your total_hours: \"))\n",
    "\n",
    "if total_hours < 0:\n",
    "    print('Enter a Valid Number')\n",
    "elif total_hours <= 40:\n",
    "    print(f'Your salary is {total_hours * hourly_pay}DH')\n",
    "else:\n",
    "    salary = 40 * hourly_pay\n",
    "    salary += hourly_pay * 1.5 * (total_hours - 40)\n",
    "    print(f'Your salary is {salary}DH')"
   ]
  },
  {
   "cell_type": "markdown",
   "id": "challenge-3",
   "metadata": {},
   "source": [
    "### Challenge 3 : Gestion des erreurs utilisateur\n",
    "**Objectif** : Introduire les blocs `try` / `except` pour rendre le programme plus robuste face aux erreurs de saisie.\n",
    "\n",
    "**Travail à faire**: Réécris ton programme de calcul de salaire en utilisant `try` et `except` afin que le programme gère proprement les entrées non numériques en affichant un message d’erreur puis en quittant le programme."
   ]
  },
  {
   "cell_type": "code",
   "execution_count": null,
   "id": "code-ch3",
   "metadata": {},
   "outputs": [],
   "source": [
    "# Écrivez votre code pour Challenge 3 ici\n",
    "# CHALLENGE 3\n",
    "\n",
    "name = input(\"Enter Your Name: \")\n",
    "\n",
    "try:\n",
    "    hourly_pay = float(input(\"Enter Your hourly salary: \"))\n",
    "    total_hours = float(input(\"Enter Your total_hours: \"))\n",
    "\n",
    "    if total_hours < 0:\n",
    "        print('Enter a valid number of hours')\n",
    "    elif total_hours <= 40:\n",
    "        salary = total_hours * hourly_pay\n",
    "        print(f'Your salary is {salary} DH')\n",
    "    else:\n",
    "        salary = 40 * hourly_pay + (total_hours - 40) * hourly_pay * 1.5\n",
    "        print(f'Your salary is {salary} DH')\n",
    "\n",
    "except ValueError:\n",
    "    print(\"Enter a valid number for salary or hours\")"
   ]
  },
  {
   "cell_type": "markdown",
   "id": "challenge-4",
   "metadata": {},
   "source": [
    "### Challenge 4 : Déterminer le signe d’un produit de deux nombres\n",
    "**Objectif** : Manipuler les entrées utilisateur, les conditions (`if/elif/else`) et la logique mathématique.\n",
    "\n",
    "**Travail à faire**: Demander deux nombres `n1`, `n2` et indiquer si leur produit est positif, négatif ou nul."
   ]
  },
  {
   "cell_type": "code",
   "execution_count": 6,
   "id": "code-ch4",
   "metadata": {},
   "outputs": [
    {
     "name": "stdout",
     "output_type": "stream",
     "text": [
      "your result -12.0 is negative\n"
     ]
    }
   ],
   "source": [
    "# Écrivez votre code pour Challenge 4 ici\n",
    "try:\n",
    "    n1 = float(input(\"Enter the first Number\"))\n",
    "    n2 = float(input(\"Enter the seconde Number\"))\n",
    "\n",
    "    \n",
    "    result = n1 * n2\n",
    "    if result == 0:\n",
    "        print(f'your result {result} is null')\n",
    "    elif result < 0:\n",
    "        print(f'your result {result} is negative')\n",
    "    else:\n",
    "        print(f'your result {result} is positive')\n",
    "\n",
    "except ValueError:\n",
    "    print(\"Enter a Valid Number\")\n"
   ]
  },
  {
   "cell_type": "markdown",
   "id": "challenge-5",
   "metadata": {},
   "source": [
    "### Challenge 5 : Somme d’entiers\n",
    "**Objectif** : Apprendre à utiliser la boucle `while`.\n",
    "\n",
    "**Travail à faire**: Calculer la somme de 1 à `N`, où `N` est saisi par l’utilisateur, en utilisant `while`."
   ]
  },
  {
   "cell_type": "code",
   "execution_count": 15,
   "id": "code-ch5",
   "metadata": {},
   "outputs": [
    {
     "name": "stdout",
     "output_type": "stream",
     "text": [
      "Enter a valid integer\n"
     ]
    }
   ],
   "source": [
    "# Écrivez votre code pour Challenge 5 ici\n",
    "try:\n",
    "    num = int(input(\"Enter a the number of iteration: \"))\n",
    "\n",
    "    if num < 1:\n",
    "        print(\"Enter a positive number\")\n",
    "    else:\n",
    "        total = 0\n",
    "        i = 1\n",
    "    while i <= num:\n",
    "        total += i\n",
    "        i += 1\n",
    "\n",
    "    print(f\"The sum of numbers from 1 to {num} is {total}\")\n",
    "\n",
    "except ValueError:\n",
    "    print(\"Enter a valid integer\")\n"
   ]
  },
  {
   "cell_type": "markdown",
   "id": "challenge-6",
   "metadata": {},
   "source": [
    "### Challenge 6 : Inverser une chaîne\n",
    "**Objectif** : Manipulation de chaînes et boucle `while`.\n",
    "\n",
    "**Travail à faire**: Inverser une chaîne de caractères en utilisant `while`. Exemple : `DevAI` → `IAveD`."
   ]
  },
  {
   "cell_type": "code",
   "execution_count": 19,
   "id": "code-ch6",
   "metadata": {},
   "outputs": [
    {
     "name": "stdout",
     "output_type": "stream",
     "text": [
      "the reverse of khalid is dilahk\n"
     ]
    }
   ],
   "source": [
    "# Écrivez votre code pour Challenge 6 ici\n",
    "string = input(\"Enter a string of character\")\n",
    "\n",
    "i = len(string) - 1\n",
    "newstring = \"\"\n",
    "\n",
    "while i >= 0:\n",
    "    newstring += string[i]\n",
    "    i -= 1\n",
    "\n",
    "print(f'the reverse of {string} is {newstring}')\n"
   ]
  },
  {
   "cell_type": "markdown",
   "id": "challenge-7",
   "metadata": {},
   "source": [
    "### Challenge 7 : Calcul de distance entre deux points\n",
    "**Objectif** : Manipuler les nombres flottants et appliquer une formule mathématique.\n",
    "\n",
    "**Travail à faire**: Calculer la distance euclidienne entre deux points `(x1,y1)` et `(x2,y2)` en utilisant `float()` et `math.sqrt()`."
   ]
  },
  {
   "cell_type": "code",
   "execution_count": null,
   "id": "code-ch7",
   "metadata": {},
   "outputs": [
    {
     "name": "stdout",
     "output_type": "stream",
     "text": [
      "The distance between the two points is 2.83\n"
     ]
    }
   ],
   "source": [
    "# Écrivez votre code pour Challenge 7 ici\n",
    "import math\n",
    "\n",
    "try:   \n",
    "    x1 = float(input(\"Enter the x cordanation for the first point\"))\n",
    "    y1 = float(input(\"Enter the y cordanation for the first point\"))\n",
    "    x2 = float(input(\"Enter the x cordanation for the seconde point\"))\n",
    "    y2 = float(input(\"Enter the y cordanation for the seconde point\"))\n",
    "\n",
    "    x_diff = pow((x2 - x1),2)\n",
    "    y_diff = pow((y2 - y1),2)\n",
    "\n",
    "    distance = math.sqrt(x_diff + y_diff)\n",
    "    print(f'The distance between the two points is {distance}')\n",
    "\n",
    "except:\n",
    "    print(\"Enter A Valid Number\")"
   ]
  }
 ],
 "metadata": {
  "kernelspec": {
   "display_name": "Python 3",
   "language": "python",
   "name": "python3"
  },
  "language_info": {
   "codemirror_mode": {
    "name": "ipython",
    "version": 3
   },
   "file_extension": ".py",
   "mimetype": "text/x-python",
   "name": "python",
   "nbconvert_exporter": "python",
   "pygments_lexer": "ipython3",
   "version": "3.13.7"
  }
 },
 "nbformat": 4,
 "nbformat_minor": 5
}
