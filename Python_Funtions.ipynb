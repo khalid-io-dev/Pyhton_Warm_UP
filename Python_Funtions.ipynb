{
 "cells": [
  {
   "cell_type": "markdown",
   "id": "21dfa672",
   "metadata": {},
   "source": [
    "<center>\n",
    "<H1><span style=\"text-align: center; font-weight: bold; color: #746bb3ff;\">Les Fonctions</span></H1>\n",
    "</center>"
   ]
  },
  {
   "cell_type": "markdown",
   "id": "4280dbf3",
   "metadata": {},
   "source": [
    "<H3><span style=\"font-weight: bold ; color: #19b7f1ff\">Les ressources: </span></H3> \n",
    "\n",
    "\n",
    "* [Python Functions](https://realpython.com/defining-your-own-python-function/#abstraction)\n",
    "* [Documentation Officielle de Python](https://docs.python.org/fr/3/tutorial/controlflow.html#defining-functions)"
   ]
  },
  {
   "cell_type": "markdown",
   "id": "e83d584f",
   "metadata": {},
   "source": [
    "<H3><span style=\"font-weight: bold; color: #1a8bcdff;\">Challenge 1 : Présentation personnalisé</span></H3>\n",
    "\n",
    "1. <span style=\"font-weight: bold; color: #e56922ff;\">Objectif</span> : </br>\n",
    "Réutiliser un programme existant (Challenge 2) en le structurant dans une fonction nommée horaire_sup.\n",
    "\n",
    "2. <span style=\"font-weight: bold; color: #e56922ff;\">Travail à faire</span>:</br>\n",
    "Réécris le programme du Challenge 2 dans une fonction appelée horaire_sup."
   ]
  },
  {
   "cell_type": "code",
   "execution_count": 1,
   "id": "b3439d44",
   "metadata": {},
   "outputs": [
    {
     "name": "stdout",
     "output_type": "stream",
     "text": [
      "Your salary is 534.0DH\n"
     ]
    }
   ],
   "source": [
    "#  Écrivez du code Python ici\n",
    "\n",
    "name = input(\"Enter Your Name: \")\n",
    "hourly_pay = float(input(\"Enter Your hourly salary: \"))\n",
    "total_hours = float(input(\"Enter Your total_hours: \"))\n",
    "\n",
    "def horrair_sup(hourly_pay, total_hours):\n",
    "        if total_hours < 0:\n",
    "            print('Enter a Valid Number')\n",
    "        elif total_hours <= 40:\n",
    "            print(f'Your salary is {total_hours * hourly_pay}DH')\n",
    "        else:\n",
    "            salary = 40 * hourly_pay\n",
    "            salary += hourly_pay * 1.5 * (total_hours - 40)\n",
    "            print(f'Your salary is {salary}DH')\n",
    "\n",
    "horrair_sup(hourly_pay,total_hours)"
   ]
  },
  {
   "cell_type": "code",
   "execution_count": null,
   "id": "4da86cfd",
   "metadata": {},
   "outputs": [
    {
     "name": "stdout",
     "output_type": "stream",
     "text": [
      "Enter a valid number\n"
     ]
    }
   ],
   "source": [
    "#  Écrivez du code Python ici\n",
    "# optimized version \n",
    "\n",
    "def horrair_sup(hourly_pay, total_hours):\n",
    "    if total_hours < 0:\n",
    "        return None  \n",
    "    elif total_hours <= 40:\n",
    "        return total_hours * hourly_pay\n",
    "    else:\n",
    "        return 40 * hourly_pay + (total_hours - 40) * hourly_pay * 1.5\n",
    "\n",
    "try:\n",
    "    hourly_pay = float(input(\"Enter your hourly salary: \"))\n",
    "    total_hours = float(input(\"Enter your total hours: \"))\n",
    "\n",
    "    salary = horrair_sup(hourly_pay, total_hours)\n",
    "\n",
    "    if salary is None:\n",
    "        print(\"Enter a valid number of hours And Salary\")\n",
    "    else:\n",
    "        print(f\"Your salary is {salary} DH\")\n",
    "\n",
    "except ValueError:\n",
    "    print(\"Enter a valid number\")\n"
   ]
  },
  {
   "cell_type": "markdown",
   "id": "77631c7d",
   "metadata": {},
   "source": [
    "<H3><span style=\"font-weight: bold; color: #1a8bcdff;\">Challenge 2 : Fonction calculation() – somme et différence</span></H3>\n",
    "\n",
    "1. <span style=\"font-weight: bold; color: #e56922ff;\">Objectif</span> : </br>\n",
    "Apprendre à écrire une fonction avec plusieurs paramètres et plusieurs valeurs de retour.\n",
    "\n",
    "2. <span style=\"font-weight: bold; color: #e56922ff;\">Travail à faire</span>:</br>\n",
    "Écris une fonction calculation() qui prend deux arguments et calcule leur somme ainsi que leur différence. La fonction doit ensuite retourner les deux résultats dans une seule instruction return."
   ]
  },
  {
   "cell_type": "code",
   "execution_count": null,
   "id": "323a8b4a",
   "metadata": {},
   "outputs": [
    {
     "name": "stdout",
     "output_type": "stream",
     "text": [
      "the sum is 6.0 and the differnce is 2.0\n"
     ]
    }
   ],
   "source": [
    "#  Écrivez du code Python ici\n",
    "\n",
    "def calculation(x,y):\n",
    "    if x >= y:\n",
    "        return ((x + y), (x - y))\n",
    "    elif x < y:\n",
    "        return ((x + y), (y - x))\n",
    "    \n",
    "try:\n",
    "    x = float(input(\"Enter the first number\"))\n",
    "    y = float(input(\"Enter the first number\"))\n",
    "    sum, diff = calculation(x,y)\n",
    "    print(f'the sum is {sum} and the differnce is {diff}')\n",
    "\n",
    "except ValueError:\n",
    "    print(\"Enter a valid number\")\n"
   ]
  },
  {
   "cell_type": "markdown",
   "id": "c2081304",
   "metadata": {},
   "source": [
    "<H3><span style=\"font-weight: bold; color: #1a8bcdff;\">Challenge 3 : Mini-projets algorithmiques regroupés</span></H3>\n",
    "\n",
    "1. <span style=\"font-weight: bold; color: #e56922ff;\">Objectif</span> : </br>\n",
    "Développer plusieurs petites fonctions indépendantes, chacune ciblant une compétence précise\n",
    "\n",
    "2. <span style=\"font-weight: bold; color: #e56922ff;\">Travail à faire</span>:</br>\n",
    "- Demander à l’utilisateur de saisir un nombre entier n et afficher la factorielle de ce nombre (n!).\n",
    "- Demander à l’utilisateur un nombre entier m et afficher sa table de multiplication de 1 à 10.\n",
    "- Demander à l’utilisateur un nombre entier L et indiquer s’il s’agit d’un carré parfait.\n",
    "- Demander une chaîne de caractères à l’utilisateur, puis afficher chaque caractère un par un.\n",
    "- Demander une phrase à l’utilisateur et afficher le mot le plus long de cette phrase.\n",
    "- Demander une chaîne de caractères Ch et afficher le nombre d’occurrences de chaque caractère. Exemple : Pour Ch = “artificial intelligence developer” \n",
    "- Le programme doit afficher : Le caractère \"i\" figure 5 fois dans la chaîne Ch."
   ]
  },
  {
   "cell_type": "code",
   "execution_count": null,
   "id": "a06adf5c",
   "metadata": {},
   "outputs": [],
   "source": [
    "#  Écrivez du code Python ici\n",
    "import math\n",
    "\n",
    "def occurance(string):\n",
    "    i = len(string) - 1\n",
    "    j = i - 1\n",
    "    occurance = 0\n",
    "    result = 0\n",
    "\n",
    "\n",
    "    while i >= 0:\n",
    "        while j >= 0:\n",
    "            if string[i] == string[j]:\n",
    "                occurance += 1\n",
    "\n",
    "\n",
    "def longest(string):\n",
    "    words = string.split()\n",
    "    Lword = string[0]\n",
    "    for word in words:\n",
    "        if len(Lword) < len(word):\n",
    "            Lword = word\n",
    "    print(Lword)\n",
    "\n",
    "\n",
    "def defuse(string):\n",
    "    for char in string:\n",
    "        print(char)\n",
    "\n",
    "\n",
    "def factorielle(num):\n",
    "    if num < 0:\n",
    "        return None  \n",
    "    \n",
    "    result = 1\n",
    "    i = num\n",
    "    while i > 1:\n",
    "        result *= i\n",
    "        i -= 1\n",
    "    return result\n",
    "\n",
    "def multiplication(num):\n",
    "    i = 1\n",
    "    while i <= 10:\n",
    "        print(num * i)\n",
    "        i += 1\n",
    "\n",
    "def perfectSquare(num):\n",
    "    if num < 0:\n",
    "        print(\"Enter a Positive Number\")\n",
    "        return\n",
    "    \n",
    "    sqruare_num = math.sqrt(num)\n",
    "    if sqruare_num.is_integer(): \n",
    "        print(\"The number is a perfect square\")\n",
    "    else: \n",
    "        print(\"The number is NOT a perfect square\")\n",
    "\n",
    "\n"
   ]
  }
 ],
 "metadata": {
  "kernelspec": {
   "display_name": "Python 3",
   "language": "python",
   "name": "python3"
  },
  "language_info": {
   "codemirror_mode": {
    "name": "ipython",
    "version": 3
   },
   "file_extension": ".py",
   "mimetype": "text/x-python",
   "name": "python",
   "nbconvert_exporter": "python",
   "pygments_lexer": "ipython3",
   "version": "3.13.7"
  }
 },
 "nbformat": 4,
 "nbformat_minor": 5
}
