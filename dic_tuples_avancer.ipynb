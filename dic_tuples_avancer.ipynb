{
 "cells": [
  {
   "cell_type": "markdown",
   "id": "ed27035d",
   "metadata": {},
   "source": [
    "\n",
    "<center>\n",
    "<H1><span style=\"text-align: center; font-weight: bold; color: #746bb3ff;\">Challenges avancés sur les dics et tuples</span></H1>\n",
    "</center>"
   ]
  },
  {
   "cell_type": "markdown",
   "id": "d37d1b79",
   "metadata": {},
   "source": [
    "### **Conseils pour résoudre les challenges :**\n",
    "- Testez avec des cas limites : dictionnaires vides, tuples vides, clés absentes, ou structures imbriquées complexes.\n",
    "- Utilisez `get()` ou `setdefault()` pour gérer les accès sécurisés aux dictionnaires.\n",
    "- Pour les tuples, rappelez-vous qu'ils sont immuables, donc toute transformation nécessite de créer de nouveaux tuples.\n",
    "- Assurez-vous que vos fonctions sont robustes face aux erreurs (par exemple, vérifier les types des entrées).\n"
   ]
  },
  {
   "cell_type": "markdown",
   "id": "28323bec",
   "metadata": {},
   "source": [
    "### **Challenge 1 : Fusion de dictionnaires avec mise à jour personnalisée**\n",
    "**Objectif** : Fusionner deux dictionnaires en appliquant une règle personnalisée pour gérer les clés communes.\n",
    "\n",
    "**Travail à faire** :  \n",
    "* Écrivez une fonction `fusionner_dictionnaires` qui prend deux dictionnaires et une fonction de fusion (par exemple, `lambda x, y: x + y` pour additionner les valeurs des clés communes). \n",
    " * La fonction doit retourner un nouveau dictionnaire contenant toutes les clés des deux dictionnaires, avec les valeurs des clés communes combinées via la fonction de fusion. \n",
    " * Testez avec deux dictionnaires et deux fonctions de fusion différentes (par exemple, addition et maximum).  \n",
    "* Exemple d'entrée : `dict1 = {'a': 1, 'b': 2}`, `dict2 = {'b': 3, 'c': 4}`, fonction `lambda x, y: x + y` → Résultat : `{'a': 1, 'b': 5, 'c': 4}`.\n",
    "\n",
    "**Fonctions à utiliser** :  \n",
    "- `items()` : Pour itérer sur les paires clé-valeur des dictionnaires.  \n",
    "- `setdefault()` : Pour gérer les clés absentes dans un dictionnaire.  \n",
    "- `update()` : Pour ajouter des paires clé-valeur au dictionnaire résultat. "
   ]
  },
  {
   "cell_type": "code",
   "execution_count": null,
   "id": "8d23a564",
   "metadata": {},
   "outputs": [],
   "source": [
    "def fusionner_dictionnaires(dict1, dict2, fusion_func):\n",
    "    result = {}\n",
    "    result.update(dict1)\n",
    "\n",
    "    for key, value in dict2.items():\n",
    "        if key in result:\n",
    "            result[key] = fusion_func(result[key], value)\n",
    "        else:\n",
    "            result[key] = value\n",
    "\n",
    "    return result\n",
    "\n",
    "\n",
    "dict1 = {'a': 1, 'b': 2}\n",
    "dict2 = {'b': 3, 'c': 4}\n",
    "\n",
    "merged_add = fusionner_dictionnaires(dict1, dict2, lambda x, y: x + y)\n",
    "print(\"Addition:\", merged_add)\n",
    "\n",
    "merged_max = fusionner_dictionnaires(dict1, dict2, lambda x, y: max(x, y))\n",
    "print(\"Maximum:\", merged_max)\n"
   ]
  },
  {
   "cell_type": "markdown",
   "id": "bf45ff06",
   "metadata": {},
   "source": [
    "### **Challenge 2 : Filtrage de dictionnaire par valeurs**\n",
    "**Objectif** : Filtrer un dictionnaire selon un critère appliqué à ses valeurs.\n",
    "\n",
    "**Travail à faire** :  \n",
    "* Écrivez une fonction `filtrer_dictionnaire` qui prend un dictionnaire et une fonction de critère (par exemple, `lambda x: x > 10` pour garder les valeurs supérieures à 10). \n",
    "* La fonction doit retourner un nouveau dictionnaire contenant uniquement les paires clé-valeur où la valeur satisfait le critère. Testez avec deux critères différents (par exemple, \"valeur > 10\" et \"valeur est paire\").  \n",
    "* Exemple d'entrée : `{'a': 5, 'b': 12, 'c': 8, 'd': 15}` avec critère `lambda x: x > 10` → Résultat : `{'b': 12, 'd': 15}`.\n",
    "\n",
    "**Fonctions à utiliser** :  \n",
    "- `items()` : Pour itérer sur les paires clé-valeur.  \n",
    "- `filter()` : Pour appliquer le critère aux valeurs.  \n",
    "- `dict()` : Pour construire le dictionnaire résultat à partir des paires filtrées.  \n"
   ]
  },
  {
   "cell_type": "code",
   "execution_count": null,
   "id": "1a449cd5",
   "metadata": {},
   "outputs": [],
   "source": [
    "def filtrer_dictionnaire(d, critere):\n",
    "    filtered_items = filter(lambda item: critere(item[1]), d.items())\n",
    "    \n",
    "    return dict(filtered_items)\n",
    "\n",
    "\n",
    "data = {'a': 5, 'b': 12, 'c': 8, 'd': 15}\n",
    "\n",
    "filtered1 = filtrer_dictionnaire(data, lambda x: x > 10)\n",
    "print(\"Values > 10:\", filtered1)\n",
    "\n",
    "filtered2 = filtrer_dictionnaire(data, lambda x: x % 2 == 0)\n",
    "print(\"Even values:\", filtered2)\n"
   ]
  },
  {
   "cell_type": "markdown",
   "id": "013db6ff",
   "metadata": {},
   "source": [
    "### **Challenge 3 : Création de tuples à partir de dictionnaires**\n",
    "**Objectif** : Convertir un dictionnaire en une liste de tuples triés selon un critère.\n",
    "\n",
    "**Travail à faire** :  \n",
    "* Écrivez une fonction `dictionnaire_vers_tuples` qui prend un dictionnaire et une fonction de tri (par exemple, `lambda x: x[1]` pour trier par valeur). \n",
    "* La fonction doit retourner une liste de tuples (clé, valeur) triée selon la fonction de tri. Testez avec deux critères de tri (par exemple, tri par clé et tri par valeur).  \n",
    "* Exemple d'entrée : `{'a': 10, 'b': 5, 'c': 15}` avec tri par valeur → Résultat : `[('b', 5), ('a', 10), ('c', 15)]`.\n",
    "\n",
    "**Fonctions à utiliser** :  \n",
    "- `items()` : Pour obtenir les paires clé-valeur sous forme de tuples.  \n",
    "- `sorted()` : Pour trier les tuples selon le critère.  \n",
    "- `list()` : Pour convertir en liste si nécessaire.  \n"
   ]
  },
  {
   "cell_type": "code",
   "execution_count": null,
   "id": "07ec84eb",
   "metadata": {},
   "outputs": [],
   "source": [
    "def dictionnaire_vers_tuples(d, critere):\n",
    "    return sorted(d.items(), key=critere)\n",
    "\n",
    "\n",
    "data = {'a': 10, 'b': 5, 'c': 15}\n",
    "\n",
    "sorted_by_value = dictionnaire_vers_tuples(data, lambda x: x[1])\n",
    "print(\"Sorted by value:\", sorted_by_value)\n",
    "\n",
    "sorted_by_key = dictionnaire_vers_tuples(data, lambda x: x[0])\n",
    "print(\"Sorted by key:\", sorted_by_key)\n"
   ]
  },
  {
   "cell_type": "markdown",
   "id": "eebca455",
   "metadata": {},
   "source": [
    "### **Challenge 4 : Regroupement par clé dans un dictionnaire**\n",
    "**Objectif** : Regrouper des tuples dans un dictionnaire selon leur première valeur.\n",
    "\n",
    "**Travail à faire** :  \n",
    "* Écrivez une fonction `regrouper_tuples` qui prend une liste de tuples (chaque tuple ayant au moins deux éléments : une clé et une valeur) et regroupe les valeurs associées à chaque clé dans un dictionnaire. \n",
    "* La fonction doit retourner un dictionnaire où chaque clé est la première valeur du tuple, et la valeur est une liste des secondes valeurs correspondantes. Testez avec une liste de tuples contenant des doublons de clés.  \n",
    "* Exemple d'entrée : `[('a', 1), ('b', 2), ('a', 3), ('c', 4)]` → Résultat : `{'a': [1, 3], 'b': [2], 'c': [4]}`.\n",
    "\n",
    "**Fonctions à utiliser** :  \n",
    "- `setdefault()` : Pour initialiser une liste vide pour chaque clé.  \n",
    "- `append()` : Pour ajouter les valeurs à la liste associée à une clé.  \n"
   ]
  },
  {
   "cell_type": "code",
   "execution_count": null,
   "id": "b18ccf4c",
   "metadata": {},
   "outputs": [],
   "source": [
    "def regrouper_tuples(liste_tuples):\n",
    "    d = {}\n",
    "    for cle, valeur in liste_tuples:\n",
    "        d.setdefault(cle, []).append(valeur)\n",
    "    return d\n",
    "\n",
    "tuples = [('a', 1), ('b', 2), ('a', 3), ('c', 4), ('b', 5)]\n",
    "resultat = regrouper_tuples(tuples)\n",
    "print(resultat)  \n"
   ]
  },
  {
   "cell_type": "markdown",
   "id": "006c74b5",
   "metadata": {},
   "source": [
    "### **Challenge 5 : Transformation de tuples avec fonction**\n",
    "**Objectif** : Appliquer une transformation à tous les éléments numériques d'une liste de tuples.\n",
    "\n",
    "**Travail à faire** :  \n",
    "* Écrivez une fonction `transformer_tuples` qui prend une liste de tuples contenant des nombres et une fonction de transformation (par exemple, `lambda x: x * 2`). \n",
    "* La fonction doit appliquer la transformation à chaque nombre dans les tuples et retourner une nouvelle liste de tuples.  \n",
    "* Testez avec deux fonctions de transformation différentes (par exemple, doubler et ajouter 1).  \n",
    "* Exemple d'entrée : `[(1, 2), (3, 4)]` avec `lambda x: x * 2` → Résultat : `[(2, 4), (6, 8)]`.\n",
    "\n",
    "**Fonctions à utiliser** :  \n",
    "- `map()` : Pour appliquer la transformation à chaque élément du tuple.  \n",
    "- `tuple()` : Pour convertir les résultats de `map` en tuples.  \n",
    "- `list()` : Pour construire la liste finale de tuples.  \n"
   ]
  },
  {
   "cell_type": "code",
   "execution_count": null,
   "id": "483d28d5",
   "metadata": {},
   "outputs": [],
   "source": [
    "def transformer_tuples(liste_tuples, fonction):\n",
    "    return [tuple(map(fonction, t)) for t in liste_tuples]\n",
    "\n",
    "\n",
    "tuples = [(1, 2), (3, 4)]\n",
    "\n",
    "resultat1 = transformer_tuples(tuples, lambda x: x * 2)\n",
    "print(resultat1)  \n",
    "\n",
    "resultat2 = transformer_tuples(tuples, lambda x: x + 1)\n",
    "print(resultat2)  \n"
   ]
  },
  {
   "cell_type": "markdown",
   "id": "6c9aa7f3",
   "metadata": {},
   "source": [
    "### **Challenge 6 : Dictionnaire imbriqué à plat**\n",
    "**Objectif** : Convertir un dictionnaire imbriqué en une liste de tuples avec des clés concaténées.\n",
    "\n",
    "**Travail à faire** :  \n",
    "Écrivez une fonction `aplatir_dictionnaire` qui prend un dictionnaire potentiellement imbriqué et retourne une liste de tuples où chaque tuple contient une clé concaténée (séparée par des points) et la valeur correspondante. Testez avec un dictionnaire ayant au moins deux niveaux d'imbrication.  \n",
    "Exemple d'entrée : `{'a': 1, 'b': {'c': 2, 'd': 3}}` → Résultat : `[('a', 1), ('b.c', 2), ('b.d', 3)]`.\n",
    "\n",
    "**Fonctions à utiliser** :  \n",
    "- `items()` : Pour itérer sur les paires clé-valeur.  \n",
    "- `isinstance()` : Pour vérifier si une valeur est un dictionnaire (pour la récursivité).  \n",
    "- `append()` : Pour construire la liste de tuples.  \n"
   ]
  },
  {
   "cell_type": "code",
   "execution_count": 1,
   "id": "6d186a2c",
   "metadata": {},
   "outputs": [
    {
     "name": "stdout",
     "output_type": "stream",
     "text": [
      "[('a', 1), ('b.c', 2), ('b.d', 3), ('e.f.g', 4)]\n"
     ]
    }
   ],
   "source": [
    "def aplatir_dictionnaire(d, prefixe=\"\"):\n",
    "    resultats = []\n",
    "    for cle, valeur in d.items():\n",
    "        nouvelle_cle = f\"{prefixe}.{cle}\" if prefixe else cle\n",
    "        \n",
    "        if isinstance(valeur, dict):\n",
    "            resultats.extend(aplatir_dictionnaire(valeur, nouvelle_cle))\n",
    "        else:\n",
    "            resultats.append((nouvelle_cle, valeur))\n",
    "    return resultats\n",
    "\n",
    "dictionnaire = {'a': 1, 'b': {'c': 2, 'd': 3}, 'e': {'f': {'g': 4}}}\n",
    "\n",
    "resultat = aplatir_dictionnaire(dictionnaire)\n",
    "print(resultat)\n"
   ]
  }
 ],
 "metadata": {
  "kernelspec": {
   "display_name": "Python 3",
   "language": "python",
   "name": "python3"
  },
  "language_info": {
   "codemirror_mode": {
    "name": "ipython",
    "version": 3
   },
   "file_extension": ".py",
   "mimetype": "text/x-python",
   "name": "python",
   "nbconvert_exporter": "python",
   "pygments_lexer": "ipython3",
   "version": "3.13.7"
  }
 },
 "nbformat": 4,
 "nbformat_minor": 5
}
